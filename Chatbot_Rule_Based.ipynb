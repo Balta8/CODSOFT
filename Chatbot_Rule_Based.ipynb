{
 "cells": [
  {
   "cell_type": "code",
   "execution_count": 11,
   "metadata": {},
   "outputs": [
    {
     "name": "stdout",
     "output_type": "stream",
     "text": [
      "Hello.\n"
     ]
    }
   ],
   "source": [
    "# Simple chatbot\n",
    "def chatbot(user_input):\n",
    "    # Convert user input to lowercase for case-insensitive matching\n",
    "    user_input = user_input.lower()\n",
    "\n",
    "    # Use if-else statements to respond based on predefined rules\n",
    "    if user_input == \"how are you today\":\n",
    "        response = \"I am fine.\"\n",
    "    elif user_input == \"hi\":\n",
    "        response = \"Hello,how are you.\"\n",
    "    elif user_input == \"what is your name\":\n",
    "        response = \"Call me Bot.\"\n",
    "    else:\n",
    "        response = \"Sorry, I didn't understand that.\"\n",
    "\n",
    "    return response\n",
    "\n",
    "def main():\n",
    "    user_input = input(\"How can I help you today?\")\n",
    "    response = chatbot(user_input)\n",
    "    print(response)\n",
    "\n",
    "if __name__ == \"__main__\":\n",
    "    main() "
   ]
  },
  {
   "cell_type": "code",
   "execution_count": 21,
   "metadata": {},
   "outputs": [
    {
     "name": "stdout",
     "output_type": "stream",
     "text": [
      "Welcome to Rule-based Chatbot!\n",
      "You can type 'bye' to exit.\n",
      "Chatbot: Hello, how are you?\n",
      "Chatbot: Sorry, I didn't understand that.\n",
      "Have a nice day!\n"
     ]
    }
   ],
   "source": [
    "def rule_based_chatbot(user_input):\n",
    "    rules = {\n",
    "        \"hi\": \"Hello, how are you?\",\n",
    "        \"how are you today\": \"I am fine.\",\n",
    "        \"what is your name\": \"Call me Bot.\"\n",
    "    }\n",
    "    \n",
    "    user_input = user_input.lower()\n",
    "\n",
    "    if user_input in rules:\n",
    "        return rules[user_input]\n",
    "    else:\n",
    "        return \"Sorry, I didn't understand that.\"\n",
    "\n",
    "def main():\n",
    "    print(\"Welcome to Rule-based Chatbot!\")\n",
    "    print(\"You can type 'bye' to exit.\")\n",
    "\n",
    "    while True:\n",
    "        termination_rules = {\n",
    "            \"bye\": \"Have a great day!\",\n",
    "            \"goodbye\": \"Goodbye! Have a great day!\",\n",
    "            \"exit\": \"Have a nice day!\"\n",
    "        }\n",
    "        \n",
    "        user_input = input(\"You: \")\n",
    "        if user_input.lower() in termination_rules:\n",
    "            print(termination_rules[user_input.lower()])\n",
    "            break\n",
    "        else:\n",
    "            response = rule_based_chatbot(user_input)\n",
    "            print(\"Chatbot:\", response)\n",
    "\n",
    "if __name__ == \"__main__\":\n",
    "    main()\n",
    "\n"
   ]
  }
 ],
 "metadata": {
  "kernelspec": {
   "display_name": "Python 3",
   "language": "python",
   "name": "python3"
  },
  "language_info": {
   "codemirror_mode": {
    "name": "ipython",
    "version": 3
   },
   "file_extension": ".py",
   "mimetype": "text/x-python",
   "name": "python",
   "nbconvert_exporter": "python",
   "pygments_lexer": "ipython3",
   "version": "3.11.8"
  }
 },
 "nbformat": 4,
 "nbformat_minor": 2
}
